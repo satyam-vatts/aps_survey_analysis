{
 "cells": [
  {
   "cell_type": "markdown",
   "metadata": {},
   "source": [
    "# APS LEADERSHIP ANALYSIS"
   ]
  },
  {
   "cell_type": "markdown",
   "metadata": {},
   "source": [
    "## Importing Libraries"
   ]
  },
  {
   "cell_type": "code",
   "execution_count": 1,
   "metadata": {},
   "outputs": [],
   "source": [
    "from urllib.request import urlopen\n",
    "import json\n",
    "import numpy as np\n",
    "import pandas as pd\n",
    "import pandas as pd\n",
    "import numpy as np\n",
    "from scipy.stats import zscore\n",
    "from scipy.stats import kurtosis, skew\n",
    "import matplotlib.pyplot as plt\n",
    "import scipy.stats as stats\n",
    "pd.set_option('display.max_rows', 500)\n",
    "pd.options.display.max_columns = 1000"
   ]
  },
  {
   "cell_type": "markdown",
   "metadata": {},
   "source": [
    "## Getting Data from APS Data API"
   ]
  },
  {
   "cell_type": "markdown",
   "metadata": {},
   "source": [
    "### Fetching 2015 Data : DO NOT RUN THIS CELL| WILL TAKE 20 MINS TO GET DATA"
   ]
  },
  {
   "cell_type": "code",
   "execution_count": 3,
   "metadata": {},
   "outputs": [],
   "source": [
    "# APS 2015 API URL\n",
    "url_2015 = 'https://data.gov.au/data/api/3/action/datastore_search?resource_id=0b7de79a-1355-47f1-add8-c2e0593dedbe'  \n",
    "fileobj_2015 = urlopen(url_2015)\n",
    "\n",
    "# Loading JSON Data in Python\n",
    "data_2015 = json.loads(fileobj_2015.read().decode())\n",
    "\n",
    "# Creating Python Dataframe\n",
    "df_2015 = pd.DataFrame(data_2015['result']['records'])\n",
    "\n",
    "# Extracting Data from API as it gives only 100 records per iteration\n",
    "while data_2015['result']['_links']['next'] is not None or data_2015['result']['_links']['next'] != '' or data_2015['result']['_links']['next'] != ' ':\n",
    "    url_2015 = 'https://data.gov.au/data' + data_2015['result']['_links']['next']\n",
    "    fileobj_2015 = urlopen(url_2015)\n",
    "    data_2015 = json.loads(fileobj_2015.read().decode())\n",
    "    df_2015 = pd.concat([df_2015, pd.DataFrame(data_2015['result']['records'])])\n",
    "    if data_2015['result']['offset'] == 45200:\n",
    "        break\n",
    "# Removing Unwanted Fields\n",
    "df_2015.drop(['_id', 'ResponseID', 'Portfolio', 'AS1', 'At_Classification'], axis=1, inplace=True)"
   ]
  },
  {
   "cell_type": "code",
   "execution_count": null,
   "metadata": {},
   "outputs": [],
   "source": [
    "# Saving Data to CSV so not to run API fetch every time\n",
    "df_2015.to_csv('Sampled_Data.csv')"
   ]
  },
  {
   "cell_type": "markdown",
   "metadata": {},
   "source": [
    "### Fetching 2014 Data  : DO NOT RUN THIS CELL| WILL TAKE 20 MINS TO GET DATA"
   ]
  },
  {
   "cell_type": "code",
   "execution_count": null,
   "metadata": {},
   "outputs": [],
   "source": [
    "# APS 2014 API URL\n",
    "url_2014 = 'https://data.gov.au/data/api/3/action/datastore_search?resource_id=9b44e035-3bed-40dc-9687-34fc47b9f228'  \n",
    "fileobj_2014 = urlopen(url_2014)\n",
    "\n",
    "# Loading JSON Data in Python\n",
    "data_2014 = json.loads(fileobj_2014.read().decode())\n",
    "\n",
    "# Creating Python Dataframe\n",
    "df_2014 = pd.DataFrame(data_2014['result']['records'])\n",
    "\n",
    "# Extracting Data from API as it gives only 100 records per iteration\n",
    "while data_2014['result']['_links']['next'] is not None or data_2014['result']['_links']['next'] != '' or data_2014['result']['_links']['next'] != ' ':\n",
    "    url_2014 = 'https://data.gov.au/data' + data_2014['result']['_links']['next']\n",
    "    fileobj_2014 = urlopen(url_2014)\n",
    "    data_2014 = json.loads(fileobj_2014.read().decode())\n",
    "    df_2014 = pd.concat([df_2014, pd.DataFrame(data_2014['result']['records'])])\n",
    "    if data_2014['result']['offset'] == 45200:\n",
    "        break"
   ]
  },
  {
   "cell_type": "code",
   "execution_count": null,
   "metadata": {},
   "outputs": [],
   "source": [
    "# Saving Data to CSV so not to run API fetch every time\n",
    "df_2015.to_csv('Sampled_Data_2014.csv')"
   ]
  },
  {
   "cell_type": "markdown",
   "metadata": {},
   "source": [
    "## Handling Missing Data & Selecting Variables"
   ]
  },
  {
   "cell_type": "code",
   "execution_count": 2,
   "metadata": {},
   "outputs": [],
   "source": [
    "aps_2015 = pd.read_csv('Sampled_Data.csv', na_values=[' '], low_memory=False)\n",
    "columns_to_select_15 = [\"AC1\", \"AS2\",\"q1\", \"q2\", \"q7@\", \"q8\",\"q17a\",\"q17b\",\"q17c\",\"q17d\",\"q18a\",\n",
    "                     \"q18b\", \"q18c\", \"q18d\", \"q18e\", \"q18f\", \"q19\", \"q20a\", \"q20b\", \"q20c\",\n",
    "                     \"q20d\", \"q20e\", \"q20f\", \"q20g\", \"q20h\", \"q20i\", \"q21a\", \"q21b\", \"q21c\",\n",
    "                     \"q21d\", \"q21e\", \"q21f\", \"q21g\", \"q21h\", \"q21i\", \"q21j\",\"q22b\",\"q22h\",\"q22i\",\n",
    "                     \"q22j\",\"q22k\",\"q24c\", \"q24h\",\"q24m\", \"q24o\", \"q24p\", \"q30\", \"q31\", \"q32\",\n",
    "                     \"q33\", \"q34a\", \"q34b\", \"q35a\", \"q35b\", \"q35c\", \"q35d\", \"q35e\", \"q35f\", \"q35g\",\n",
    "                     \"q36a\", \"q36b\", \"q37a\", \"q37b\", \"q37c\", \"q37d\", \"q37e\", \"q37f\", \"q37g\", \"q37h\",\n",
    "                     \"q37i\", \"q37j\", \"q37k\", \"q37l\",\"q53b\", \"q53c\", \"q58a\", \"q58b\", \"q58c\", \"q58d\",\n",
    "                     \"q58e\", \"q58f\", \"q58g\", \"q58h\", \"q58i\", \"q58j\", \"q59\", \"q60\", \"q64c\", \"q67c\",\n",
    "                     \"q67d\", \"q67e\", 'JobEngagement','TeamEngagement', 'SprvisrEngagement', 'AgencyEngagement']\n",
    "aps_final_15 = aps_2015[columns_to_select_15]\n",
    "\n",
    "## Extrating Missing Data\n",
    "pd.DataFrame(aps_final_15.isna().sum()).to_csv('Missing_Data.csv')\n",
    "\n",
    "## Filtering Missing data\n",
    "aps_cleaned_2015 = aps_final_15[~aps_final_15.isnull().any(axis=1)]\n",
    "aps_cleaned_2015.shape\n",
    "\n",
    "# Saving Cleaned data \n",
    "aps_cleaned_2015.to_csv('APS_FINAL_DATA.csv')\n",
    "\n",
    "# Performing for 2014 dataset\n",
    "aps_2014 = pd.read_csv('Sampled_Data_2014.csv', na_values=[' '], low_memory=False)\n",
    "columns_to_select_2014 = [\"Agency_Cluster\", \"Agency_Size\", \"q1\", \"q2@@\", \"Actual_Classification@\",\n",
    "                          \"q8\",\"q18a\",\"q18b\",\"q18c\",\"q18d\",\"q18e\", \"q19a\", \"q19b\", \"q19c\", \"q19d\",\n",
    "                          \"q19e\", \"q20a\", \"q20b\", \"q20c\", \"q20d\", \"q20e\", \"q20f\", \"q20g\", \"q21a\",\n",
    "                          \"q21b\", \"q21c\", \"q21d\", \"q21e\", \"q21f\", \"q21g\", \"q21h\", \"q21i\", \"q21j\",\n",
    "                          \"q22b\",\"q22h\",\"q22i\", \"q22j\", \"q22o\",\"q24c\", \"q24h\",\"q24m\", \"q24o\", \"q24p\",\n",
    "                          \"q31\", \"q32@\", \"q33\", \"q34\", \"q35a@\", \"q35b@\", \"q36a\", \"q36b\", \"q36c\", \"q36d\",\n",
    "                          \"q36e\", \"q36f\", \"q36g\", \"q37a\", \"q37b\", \"q50b\", \"q50c\", \"q55a\", \"q55b\", \"q55c\",\n",
    "                          \"q55d\", \"q55e\", \"q55f\", \"q55g\", \"q55h\", \"q55i\", \"q55j\", \"q56\", \"q57\", \"q79b\",\n",
    "                          \"q79c\", \"q79d\", \"JobEngagement\", \"TeamEngagement\", \"SprvisrEngagement\", \"AgencyEngagementV2\"]\n",
    "aps_final_14 = aps_2014[columns_to_select_2014]\n",
    "aps_cleaned_2014 = aps_final_14[~aps_final_14.isnull().any(axis=1)]\n",
    "aps_cleaned_2014.shape\n",
    "aps_cleaned_2014.to_csv('APS_FINAL_DATA_2014.csv')"
   ]
  },
  {
   "cell_type": "markdown",
   "metadata": {},
   "source": [
    "The endcoding of Responses from Strongly Agree, Agree etc. categories to numbers in correct order is performed in R."
   ]
  },
  {
   "cell_type": "markdown",
   "metadata": {},
   "source": [
    "## EFA Initialization"
   ]
  },
  {
   "cell_type": "markdown",
   "metadata": {},
   "source": [
    "### Reading Encoded file  generated in R"
   ]
  },
  {
   "cell_type": "code",
   "execution_count": 3,
   "metadata": {},
   "outputs": [],
   "source": [
    "# read encoded file\n",
    "aps = pd.read_csv('APS_FINAL_DATA_2015_en.csv')\n",
    "encode_df = pd.read_csv('APS_FINAL_DATA_2015_en.csv').iloc[:,2:]\n",
    "encoded_df_14 = pd.read_csv('APS_FINAL_DATA_2014_en.csv').iloc[:,2:]"
   ]
  },
  {
   "cell_type": "markdown",
   "metadata": {},
   "source": [
    "### Selecting Variables for EFA"
   ]
  },
  {
   "cell_type": "code",
   "execution_count": 4,
   "metadata": {},
   "outputs": [],
   "source": [
    "# variable selection \n",
    "efa_aps = aps[[\"q20b\",\"q20d\",\"q20e\",\"q20f\",\"q20g\",\"q24m\", \"q24o\",\"q53b\", \"q53c\", \"q58a\",\n",
    "               \"q58b\", \"q58c\", \"q58d\", \"q58e\", \"q58f\",\n",
    "               \"q58g\", \"q58h\", \"q58i\", \"q58j\",\"q64c\",\n",
    "               \"q67c\",\"q67d\", \"q67e\"]]"
   ]
  },
  {
   "cell_type": "markdown",
   "metadata": {},
   "source": [
    "### Descriptive Analysis"
   ]
  },
  {
   "cell_type": "code",
   "execution_count": 6,
   "metadata": {},
   "outputs": [],
   "source": [
    "# Descriptive Analysis\n",
    "\n",
    "desc = efa_aps.agg([np.mean,np.std]).T\n",
    "desc['skew'] = efa_aps.apply(skew)\n",
    "desc['kurtosis'] = efa_aps.apply(kurtosis)\n",
    "desc.to_csv(\"Descriptive Analysis.csv\")"
   ]
  },
  {
   "cell_type": "markdown",
   "metadata": {},
   "source": [
    "### Outlier Detection"
   ]
  },
  {
   "cell_type": "code",
   "execution_count": 7,
   "metadata": {},
   "outputs": [
    {
     "data": {
      "text/plain": [
       "<AxesSubplot:>"
      ]
     },
     "execution_count": 7,
     "metadata": {},
     "output_type": "execute_result"
    },
    {
     "data": {
      "image/png": "[encoded data removed]",
      "text/plain": [
       "<Figure size 720x576 with 1 Axes>"
      ]
     },
     "metadata": {
      "needs_background": "light"
     },
     "output_type": "display_data"
    },
    {
     "data": {
      "image/png": "[encoded data removed]",
      "text/plain": [
       "<Figure size 720x576 with 1 Axes>"
      ]
     },
     "metadata": {
      "needs_background": "light"
     },
     "output_type": "display_data"
    }
   ],
   "source": [
    "# Outlier Detection\n",
    "\n",
    "efa_aps_z =efa_aps.apply(zscore)\n",
    "plt.figure(figsize=(10,8))\n",
    "efa_aps_z.boxplot()\n",
    "plt.figure(figsize=(10,8))\n",
    "efa_aps.boxplot()"
   ]
  },
  {
   "cell_type": "markdown",
   "metadata": {},
   "source": [
    "### Anova"
   ]
  },
  {
   "cell_type": "code",
   "execution_count": 8,
   "metadata": {},
   "outputs": [],
   "source": [
    "# ANOVA\n",
    "stat_df = pd.DataFrame({'Variable':[], 'F':[], 'p-value': [], 'Mean EL/SES': [],'Mean Trainee/Grad/APS':[], 'Mean Diff':[]} )\n",
    "for col in [\"q20b\",\"q20d\",\"q20e\",\"q20f\",\"q20g\",\"q24m\", \"q24o\",\"q53b\", \"q53c\", \"q58a\",\n",
    "            \"q58b\", \"q58c\", \"q58d\", \"q58e\", \"q58f\", \"q58g\", \"q58h\", \"q58i\", \"q58j\",\"q64c\",\n",
    "            \"q67c\",\"q67d\", \"q67e\"]:\n",
    "    \n",
    "    owa = stats.f_oneway(encode_df[col][encode_df['q7.'] == 'EL/SES'],\n",
    "               encode_df[col][encode_df['q7.'] == 'Trainee/Grad/APS'])\n",
    "    \n",
    "    mean1 = encode_df[col][encode_df['q7.'] == 'EL/SES'].mean()\n",
    "    mean2 = encode_df[col][encode_df['q7.'] == 'Trainee/Grad/APS'].mean()\n",
    "    \n",
    "    stat_df = pd.concat([stat_df,pd.DataFrame([{'Variable':col, 'F':owa.statistic,\n",
    "                                                'p-value': owa.pvalue, 'Mean EL/SES' : mean1,\n",
    "                                                'Mean Trainee/Grad/APS': mean2, 'Mean Diff': abs(mean1-mean2)}])])\n",
    "stat_df.to_csv('Anova.csv')"
   ]
  },
  {
   "cell_type": "markdown",
   "metadata": {},
   "source": [
    "## Well Being Index: Change 2014 vs 2015"
   ]
  },
  {
   "cell_type": "code",
   "execution_count": 10,
   "metadata": {},
   "outputs": [],
   "source": [
    "encode_df['wbi'] = (encode_df.loc[:,[\"q22h\",\"q22i\",\"q24c\",\"q32\",\"q35a\",\"q35b\",\"q35f\"]] * 2).sum(axis=1)/7\n",
    "encoded_df_14['wbi'] = (encoded_df_14.loc[:,[\"q22h\",\"q22i\",\"q24c\",\"q33\",\"q36a\",\"q36b\",\"q36f\"]] * 2).sum(axis=1)/7"
   ]
  },
  {
   "cell_type": "markdown",
   "metadata": {},
   "source": [
    "### Based on Agency Cluster"
   ]
  },
  {
   "cell_type": "code",
   "execution_count": 11,
   "metadata": {},
   "outputs": [
    {
     "data": {
      "text/plain": [
       "AC1\n",
       "Larger operational     5.155097\n",
       "Policy                 4.962401\n",
       "Regulatory             4.873950\n",
       "Smaller operational    4.936672\n",
       "Specialist             4.736444\n",
       "Name: wbi, dtype: float64"
      ]
     },
     "execution_count": 11,
     "metadata": {},
     "output_type": "execute_result"
    }
   ],
   "source": [
    "encode_df.groupby(\"AC1\")[\"wbi\"].mean()"
   ]
  },
  {
   "cell_type": "markdown",
   "metadata": {},
   "source": [
    "### Based on Agency Size"
   ]
  },
  {
   "cell_type": "code",
   "execution_count": 12,
   "metadata": {},
   "outputs": [
    {
     "data": {
      "text/plain": [
       "AS2\n",
       "Large (1001 or more)               5.097673\n",
       "Medium (251 to 1000)               4.920685\n",
       "Small (less than 251 employees)    4.699782\n",
       "Name: wbi, dtype: float64"
      ]
     },
     "execution_count": 12,
     "metadata": {},
     "output_type": "execute_result"
    }
   ],
   "source": [
    "encode_df.groupby(\"AS2\")[\"wbi\"].mean()"
   ]
  },
  {
   "cell_type": "markdown",
   "metadata": {},
   "source": [
    "### Based on Agency Age Group"
   ]
  },
  {
   "cell_type": "code",
   "execution_count": 13,
   "metadata": {},
   "outputs": [
    {
     "data": {
      "text/plain": [
       "q2\n",
       "30 to 34 years      5.085550\n",
       "35 to 39 years      5.115913\n",
       "40 to 44 years      5.146338\n",
       "45 to 49 years      5.113650\n",
       "50 to 54 years      5.071394\n",
       "55 to 59 years      5.084463\n",
       "60 years or more    4.941230\n",
       "Under 30 years      4.889796\n",
       "Name: wbi, dtype: float64"
      ]
     },
     "execution_count": 13,
     "metadata": {},
     "output_type": "execute_result"
    }
   ],
   "source": [
    "encode_df.groupby(\"q2\")[\"wbi\"].mean()"
   ]
  },
  {
   "cell_type": "markdown",
   "metadata": {},
   "source": [
    "### Based on Experience"
   ]
  },
  {
   "cell_type": "code",
   "execution_count": 14,
   "metadata": {},
   "outputs": [
    {
     "data": {
      "text/plain": [
       "q8\n",
       "1 to less than 5 years      4.895853\n",
       "10 to less than 15 years    5.126954\n",
       "15 to less than 20 years    5.147293\n",
       "20 years or more            5.111794\n",
       "5 to less than 10 years     5.098346\n",
       "Less than 1 year            4.608603\n",
       "Name: wbi, dtype: float64"
      ]
     },
     "execution_count": 14,
     "metadata": {},
     "output_type": "execute_result"
    }
   ],
   "source": [
    "encode_df.groupby(\"q8\")[\"wbi\"].mean()"
   ]
  },
  {
   "cell_type": "markdown",
   "metadata": {},
   "source": [
    "### Based on Workgroup Size"
   ]
  },
  {
   "cell_type": "code",
   "execution_count": 15,
   "metadata": {},
   "outputs": [
    {
     "data": {
      "text/plain": [
       "q19\n",
       "1 to 2 employees        5.052351\n",
       "11 or more employees    5.127739\n",
       "3 to 5 employees        4.979176\n",
       "6 to 10 employees       5.036184\n",
       "Name: wbi, dtype: float64"
      ]
     },
     "execution_count": 15,
     "metadata": {},
     "output_type": "execute_result"
    }
   ],
   "source": [
    "encode_df.groupby(\"q19\")[\"wbi\"].mean()"
   ]
  },
  {
   "cell_type": "markdown",
   "metadata": {},
   "source": [
    "### Based on Supervisor Level"
   ]
  },
  {
   "cell_type": "code",
   "execution_count": 16,
   "metadata": {},
   "outputs": [
    {
     "data": {
      "text/plain": [
       "q59\n",
       "APS 1-2 (or equivalent)                                 4.945578\n",
       "APS 3-4 (or equivalent)                                 5.281278\n",
       "APS 5-6 (or equivalent)                                 5.319789\n",
       "Executive Level 1 (or equivalent)                       5.030185\n",
       "Executive Level 2 (or equivalent)                       4.982437\n",
       "Senior Executive Service Band 1 (or equivalent)         4.833046\n",
       "Senior Executive Service Band 2 or 3 (or equivalent)    4.437800\n",
       "Trainee/Apprentice                                      3.142857\n",
       "Name: wbi, dtype: float64"
      ]
     },
     "execution_count": 16,
     "metadata": {},
     "output_type": "execute_result"
    }
   ],
   "source": [
    "encode_df.groupby(\"q59\")[\"wbi\"].mean()"
   ]
  },
  {
   "cell_type": "markdown",
   "metadata": {},
   "source": [
    "### Overall Mean"
   ]
  },
  {
   "cell_type": "code",
   "execution_count": 21,
   "metadata": {},
   "outputs": [
    {
     "data": {
      "text/plain": [
       "5.068466349377351"
      ]
     },
     "execution_count": 21,
     "metadata": {},
     "output_type": "execute_result"
    }
   ],
   "source": [
    "encode_df['wbi'].mean()"
   ]
  }
 ],
 "metadata": {
  "hide_input": false,
  "kernelspec": {
   "display_name": "Python 3",
   "language": "python",
   "name": "python3"
  },
  "language_info": {
   "codemirror_mode": {
    "name": "ipython",
    "version": 3
   },
   "file_extension": ".py",
   "mimetype": "text/x-python",
   "name": "python",
   "nbconvert_exporter": "python",
   "pygments_lexer": "ipython3",
   "version": "3.8.5"
  }
 },
 "nbformat": 4,
 "nbformat_minor": 4
}
